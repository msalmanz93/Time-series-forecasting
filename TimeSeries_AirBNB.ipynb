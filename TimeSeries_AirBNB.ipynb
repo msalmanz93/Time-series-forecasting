{
 "cells": [
  {
   "cell_type": "code",
   "execution_count": 1,
   "metadata": {},
   "outputs": [],
   "source": [
    "import pandas as pd\n",
    "df = pd.read_csv(\"reviews.csv\")"
   ]
  },
  {
   "cell_type": "markdown",
   "metadata": {},
   "source": [
    "# Analyze the dataset"
   ]
  },
  {
   "cell_type": "code",
   "execution_count": 2,
   "metadata": {},
   "outputs": [
    {
     "data": {
      "text/html": [
       "<div>\n",
       "<style scoped>\n",
       "    .dataframe tbody tr th:only-of-type {\n",
       "        vertical-align: middle;\n",
       "    }\n",
       "\n",
       "    .dataframe tbody tr th {\n",
       "        vertical-align: top;\n",
       "    }\n",
       "\n",
       "    .dataframe thead th {\n",
       "        text-align: right;\n",
       "    }\n",
       "</style>\n",
       "<table border=\"1\" class=\"dataframe\">\n",
       "  <thead>\n",
       "    <tr style=\"text-align: right;\">\n",
       "      <th></th>\n",
       "      <th>listing_id</th>\n",
       "      <th>date</th>\n",
       "    </tr>\n",
       "  </thead>\n",
       "  <tbody>\n",
       "    <tr>\n",
       "      <th>0</th>\n",
       "      <td>3176</td>\n",
       "      <td>2009-06-20</td>\n",
       "    </tr>\n",
       "    <tr>\n",
       "      <th>1</th>\n",
       "      <td>3176</td>\n",
       "      <td>2010-11-07</td>\n",
       "    </tr>\n",
       "    <tr>\n",
       "      <th>2</th>\n",
       "      <td>3176</td>\n",
       "      <td>2010-11-24</td>\n",
       "    </tr>\n",
       "    <tr>\n",
       "      <th>3</th>\n",
       "      <td>3176</td>\n",
       "      <td>2010-12-21</td>\n",
       "    </tr>\n",
       "    <tr>\n",
       "      <th>4</th>\n",
       "      <td>3176</td>\n",
       "      <td>2011-01-04</td>\n",
       "    </tr>\n",
       "  </tbody>\n",
       "</table>\n",
       "</div>"
      ],
      "text/plain": [
       "   listing_id        date\n",
       "0        3176  2009-06-20\n",
       "1        3176  2010-11-07\n",
       "2        3176  2010-11-24\n",
       "3        3176  2010-12-21\n",
       "4        3176  2011-01-04"
      ]
     },
     "metadata": {},
     "output_type": "display_data"
    }
   ],
   "source": [
    "# look at data\n",
    "display(df.head())"
   ]
  },
  {
   "cell_type": "code",
   "execution_count": 3,
   "metadata": {},
   "outputs": [
    {
     "data": {
      "text/plain": [
       "(545703, 2)"
      ]
     },
     "execution_count": 3,
     "metadata": {},
     "output_type": "execute_result"
    }
   ],
   "source": [
    "# look a shape of data\n",
    "df.shape"
   ]
  },
  {
   "cell_type": "code",
   "execution_count": 4,
   "metadata": {},
   "outputs": [
    {
     "data": {
      "text/plain": [
       "False"
      ]
     },
     "execution_count": 4,
     "metadata": {},
     "output_type": "execute_result"
    }
   ],
   "source": [
    "# check for null values\n",
    "df.isnull().values.any()\n"
   ]
  },
  {
   "cell_type": "code",
   "execution_count": 5,
   "metadata": {},
   "outputs": [
    {
     "data": {
      "text/plain": [
       "listing_id     int64\n",
       "date          object\n",
       "dtype: object"
      ]
     },
     "execution_count": 5,
     "metadata": {},
     "output_type": "execute_result"
    }
   ],
   "source": [
    "# look at datatypes\n",
    "df.dtypes"
   ]
  },
  {
   "cell_type": "markdown",
   "metadata": {},
   "source": [
    "Data is quite clean since it was taken from airbnb official website"
   ]
  },
  {
   "cell_type": "markdown",
   "metadata": {},
   "source": [
    "# Import Relevant Packages"
   ]
  },
  {
   "cell_type": "code",
   "execution_count": 6,
   "metadata": {},
   "outputs": [],
   "source": [
    "import pandas as pd\n",
    "import numpy as np\n",
    "import matplotlib.pyplot as plt\n",
    "%matplotlib inline\n",
    "from IPython.display import display, HTML, display_html\n",
    "import datetime"
   ]
  },
  {
   "cell_type": "markdown",
   "metadata": {},
   "source": [
    "# Process the data"
   ]
  },
  {
   "cell_type": "code",
   "execution_count": 7,
   "metadata": {},
   "outputs": [],
   "source": [
    "# Rename columns\n",
    "df = df.rename(columns = {'date': 'ds', 'listing_id': 'ts'})"
   ]
  },
  {
   "cell_type": "code",
   "execution_count": 8,
   "metadata": {},
   "outputs": [
    {
     "data": {
      "text/plain": [
       "(3329, 1)"
      ]
     },
     "execution_count": 8,
     "metadata": {},
     "output_type": "execute_result"
    }
   ],
   "source": [
    "# Group data by number of listings per date\n",
    "df_example = df.groupby(by = 'ds').agg({'ts': 'count'})\n",
    "df_example.shape"
   ]
  },
  {
   "cell_type": "code",
   "execution_count": 9,
   "metadata": {},
   "outputs": [
    {
     "name": "stdout",
     "output_type": "stream",
     "text": [
      "             ts\n",
      "ds             \n",
      "2009-06-20    1\n",
      "2009-08-18    1\n",
      "2009-11-25    1\n",
      "2010-02-15    1\n",
      "2010-02-18    1\n",
      "...         ...\n",
      "2020-03-13  175\n",
      "2020-03-14  129\n",
      "2020-03-15  239\n",
      "2020-03-16   85\n",
      "2020-03-17   11\n",
      "\n",
      "[3329 rows x 1 columns]\n"
     ]
    }
   ],
   "source": [
    "# Change index to datetime\n",
    "df_example.index = pd.to_datetime(df_example.index)\n",
    "print(df_example)"
   ]
  },
  {
   "cell_type": "code",
   "execution_count": 10,
   "metadata": {},
   "outputs": [
    {
     "data": {
      "text/html": [
       "<div>\n",
       "<style scoped>\n",
       "    .dataframe tbody tr th:only-of-type {\n",
       "        vertical-align: middle;\n",
       "    }\n",
       "\n",
       "    .dataframe tbody tr th {\n",
       "        vertical-align: top;\n",
       "    }\n",
       "\n",
       "    .dataframe thead th {\n",
       "        text-align: right;\n",
       "    }\n",
       "</style>\n",
       "<table border=\"1\" class=\"dataframe\">\n",
       "  <thead>\n",
       "    <tr style=\"text-align: right;\">\n",
       "      <th></th>\n",
       "      <th>ts</th>\n",
       "    </tr>\n",
       "    <tr>\n",
       "      <th>ds</th>\n",
       "      <th></th>\n",
       "    </tr>\n",
       "  </thead>\n",
       "  <tbody>\n",
       "    <tr>\n",
       "      <th>2009-06-20</th>\n",
       "      <td>1.0</td>\n",
       "    </tr>\n",
       "    <tr>\n",
       "      <th>2009-06-21</th>\n",
       "      <td>NaN</td>\n",
       "    </tr>\n",
       "    <tr>\n",
       "      <th>2009-06-22</th>\n",
       "      <td>NaN</td>\n",
       "    </tr>\n",
       "    <tr>\n",
       "      <th>2009-06-23</th>\n",
       "      <td>NaN</td>\n",
       "    </tr>\n",
       "    <tr>\n",
       "      <th>2009-06-24</th>\n",
       "      <td>NaN</td>\n",
       "    </tr>\n",
       "  </tbody>\n",
       "</table>\n",
       "</div>"
      ],
      "text/plain": [
       "             ts\n",
       "ds             \n",
       "2009-06-20  1.0\n",
       "2009-06-21  NaN\n",
       "2009-06-22  NaN\n",
       "2009-06-23  NaN\n",
       "2009-06-24  NaN"
      ]
     },
     "metadata": {},
     "output_type": "display_data"
    },
    {
     "data": {
      "text/html": [
       "<div>\n",
       "<style scoped>\n",
       "    .dataframe tbody tr th:only-of-type {\n",
       "        vertical-align: middle;\n",
       "    }\n",
       "\n",
       "    .dataframe tbody tr th {\n",
       "        vertical-align: top;\n",
       "    }\n",
       "\n",
       "    .dataframe thead th {\n",
       "        text-align: right;\n",
       "    }\n",
       "</style>\n",
       "<table border=\"1\" class=\"dataframe\">\n",
       "  <thead>\n",
       "    <tr style=\"text-align: right;\">\n",
       "      <th></th>\n",
       "      <th>ts</th>\n",
       "    </tr>\n",
       "    <tr>\n",
       "      <th>ds</th>\n",
       "      <th></th>\n",
       "    </tr>\n",
       "  </thead>\n",
       "  <tbody>\n",
       "    <tr>\n",
       "      <th>2020-03-13</th>\n",
       "      <td>175.0</td>\n",
       "    </tr>\n",
       "    <tr>\n",
       "      <th>2020-03-14</th>\n",
       "      <td>129.0</td>\n",
       "    </tr>\n",
       "    <tr>\n",
       "      <th>2020-03-15</th>\n",
       "      <td>239.0</td>\n",
       "    </tr>\n",
       "    <tr>\n",
       "      <th>2020-03-16</th>\n",
       "      <td>85.0</td>\n",
       "    </tr>\n",
       "    <tr>\n",
       "      <th>2020-03-17</th>\n",
       "      <td>11.0</td>\n",
       "    </tr>\n",
       "  </tbody>\n",
       "</table>\n",
       "</div>"
      ],
      "text/plain": [
       "               ts\n",
       "ds               \n",
       "2020-03-13  175.0\n",
       "2020-03-14  129.0\n",
       "2020-03-15  239.0\n",
       "2020-03-16   85.0\n",
       "2020-03-17   11.0"
      ]
     },
     "metadata": {},
     "output_type": "display_data"
    }
   ],
   "source": [
    "# Set frequency of time series\n",
    "df_example = df_example.asfreq(freq='1D')\n",
    "display(df_example.head())\n",
    "display(df_example.tail())"
   ]
  },
  {
   "cell_type": "code",
   "execution_count": 11,
   "metadata": {},
   "outputs": [
    {
     "data": {
      "text/html": [
       "<div>\n",
       "<style scoped>\n",
       "    .dataframe tbody tr th:only-of-type {\n",
       "        vertical-align: middle;\n",
       "    }\n",
       "\n",
       "    .dataframe tbody tr th {\n",
       "        vertical-align: top;\n",
       "    }\n",
       "\n",
       "    .dataframe thead th {\n",
       "        text-align: right;\n",
       "    }\n",
       "</style>\n",
       "<table border=\"1\" class=\"dataframe\">\n",
       "  <thead>\n",
       "    <tr style=\"text-align: right;\">\n",
       "      <th></th>\n",
       "      <th>ts</th>\n",
       "    </tr>\n",
       "    <tr>\n",
       "      <th>ds</th>\n",
       "      <th></th>\n",
       "    </tr>\n",
       "  </thead>\n",
       "  <tbody>\n",
       "    <tr>\n",
       "      <th>2009-06-20</th>\n",
       "      <td>1.0</td>\n",
       "    </tr>\n",
       "    <tr>\n",
       "      <th>2009-06-21</th>\n",
       "      <td>0.0</td>\n",
       "    </tr>\n",
       "    <tr>\n",
       "      <th>2009-06-22</th>\n",
       "      <td>0.0</td>\n",
       "    </tr>\n",
       "    <tr>\n",
       "      <th>2009-06-23</th>\n",
       "      <td>0.0</td>\n",
       "    </tr>\n",
       "    <tr>\n",
       "      <th>2009-06-24</th>\n",
       "      <td>0.0</td>\n",
       "    </tr>\n",
       "  </tbody>\n",
       "</table>\n",
       "</div>"
      ],
      "text/plain": [
       "             ts\n",
       "ds             \n",
       "2009-06-20  1.0\n",
       "2009-06-21  0.0\n",
       "2009-06-22  0.0\n",
       "2009-06-23  0.0\n",
       "2009-06-24  0.0"
      ]
     },
     "metadata": {},
     "output_type": "display_data"
    }
   ],
   "source": [
    "# Fill values with 0\n",
    "df_example = df_example.fillna(value = 0)\n",
    "display(df_example.head())"
   ]
  },
  {
   "cell_type": "code",
   "execution_count": 12,
   "metadata": {},
   "outputs": [],
   "source": [
    "# Sort the values\n",
    "df_example = df_example.sort_index(ascending = True)"
   ]
  },
  {
   "cell_type": "code",
   "execution_count": 13,
   "metadata": {},
   "outputs": [
    {
     "data": {
      "text/html": [
       "<div>\n",
       "<style scoped>\n",
       "    .dataframe tbody tr th:only-of-type {\n",
       "        vertical-align: middle;\n",
       "    }\n",
       "\n",
       "    .dataframe tbody tr th {\n",
       "        vertical-align: top;\n",
       "    }\n",
       "\n",
       "    .dataframe thead th {\n",
       "        text-align: right;\n",
       "    }\n",
       "</style>\n",
       "<table border=\"1\" class=\"dataframe\">\n",
       "  <thead>\n",
       "    <tr style=\"text-align: right;\">\n",
       "      <th></th>\n",
       "      <th>ts</th>\n",
       "    </tr>\n",
       "    <tr>\n",
       "      <th>ds</th>\n",
       "      <th></th>\n",
       "    </tr>\n",
       "  </thead>\n",
       "  <tbody>\n",
       "    <tr>\n",
       "      <th>2009-06-20</th>\n",
       "      <td>1.0</td>\n",
       "    </tr>\n",
       "    <tr>\n",
       "      <th>2009-06-21</th>\n",
       "      <td>0.0</td>\n",
       "    </tr>\n",
       "    <tr>\n",
       "      <th>2009-06-22</th>\n",
       "      <td>0.0</td>\n",
       "    </tr>\n",
       "    <tr>\n",
       "      <th>2009-06-23</th>\n",
       "      <td>0.0</td>\n",
       "    </tr>\n",
       "    <tr>\n",
       "      <th>2009-06-24</th>\n",
       "      <td>0.0</td>\n",
       "    </tr>\n",
       "  </tbody>\n",
       "</table>\n",
       "</div>"
      ],
      "text/plain": [
       "             ts\n",
       "ds             \n",
       "2009-06-20  1.0\n",
       "2009-06-21  0.0\n",
       "2009-06-22  0.0\n",
       "2009-06-23  0.0\n",
       "2009-06-24  0.0"
      ]
     },
     "metadata": {},
     "output_type": "display_data"
    },
    {
     "data": {
      "text/html": [
       "<div>\n",
       "<style scoped>\n",
       "    .dataframe tbody tr th:only-of-type {\n",
       "        vertical-align: middle;\n",
       "    }\n",
       "\n",
       "    .dataframe tbody tr th {\n",
       "        vertical-align: top;\n",
       "    }\n",
       "\n",
       "    .dataframe thead th {\n",
       "        text-align: right;\n",
       "    }\n",
       "</style>\n",
       "<table border=\"1\" class=\"dataframe\">\n",
       "  <thead>\n",
       "    <tr style=\"text-align: right;\">\n",
       "      <th></th>\n",
       "      <th>ts</th>\n",
       "    </tr>\n",
       "    <tr>\n",
       "      <th>ds</th>\n",
       "      <th></th>\n",
       "    </tr>\n",
       "  </thead>\n",
       "  <tbody>\n",
       "    <tr>\n",
       "      <th>2020-03-13</th>\n",
       "      <td>175.0</td>\n",
       "    </tr>\n",
       "    <tr>\n",
       "      <th>2020-03-14</th>\n",
       "      <td>129.0</td>\n",
       "    </tr>\n",
       "    <tr>\n",
       "      <th>2020-03-15</th>\n",
       "      <td>239.0</td>\n",
       "    </tr>\n",
       "    <tr>\n",
       "      <th>2020-03-16</th>\n",
       "      <td>85.0</td>\n",
       "    </tr>\n",
       "    <tr>\n",
       "      <th>2020-03-17</th>\n",
       "      <td>11.0</td>\n",
       "    </tr>\n",
       "  </tbody>\n",
       "</table>\n",
       "</div>"
      ],
      "text/plain": [
       "               ts\n",
       "ds               \n",
       "2020-03-13  175.0\n",
       "2020-03-14  129.0\n",
       "2020-03-15  239.0\n",
       "2020-03-16   85.0\n",
       "2020-03-17   11.0"
      ]
     },
     "metadata": {},
     "output_type": "display_data"
    }
   ],
   "source": [
    "# print head and tail of (df_example)\n",
    "display(df_example.head())\n",
    "display(df_example.tail())"
   ]
  },
  {
   "cell_type": "markdown",
   "metadata": {},
   "source": [
    "# 5 Steps To Perform Time-Series Analysis Using ARIMA Model\n",
    "1. Visualize The Time-Series\n",
    "2. Stationarize the Series\n",
    "3. Find Optimal Parameters\n",
    "4. Build ARIMA Model\n",
    "5. Make Predictions\n"
   ]
  },
  {
   "cell_type": "markdown",
   "metadata": {},
   "source": [
    "# Step 1: Visualize The Time-Series"
   ]
  },
  {
   "cell_type": "code",
   "execution_count": 14,
   "metadata": {},
   "outputs": [
    {
     "data": {
      "text/plain": [
       "[<matplotlib.lines.Line2D at 0x93d6898>]"
      ]
     },
     "execution_count": 14,
     "metadata": {},
     "output_type": "execute_result"
    },
    {
     "data": {
      "image/png": "[encoded data removed]",
      "text/plain": [
       "<matplotlib.figure.Figure at 0x97b77f0>"
      ]
     },
     "metadata": {},
     "output_type": "display_data"
    }
   ],
   "source": [
    "# Plot time series data\n",
    "plt.ylabel(\"IndexDate\")\n",
    "plt.xlabel(\"no. of lister\")\n",
    "plt.plot(df_example)"
   ]
  },
  {
   "cell_type": "markdown",
   "metadata": {},
   "source": [
    "# Step 2: Stationarize the Series\n",
    "What exactly is considered as stationarize series?\n",
    "    1. Constant Mean - The mean of the series should not be a function of time rather should be a constant.\n",
    "    2. Constant Variance - The variance of the series should not a be a function of time.\n",
    "    3. Covariance of the i th term and the (i + m) th term should not be a function of time.\n",
    "    \n",
    "How do we check if the data is stationarize or not?\n",
    "    1. Rolling Statistics - Compare the mean and variance of each group. If they differ and the difference is statistically  significant, the time series is likely non-stationary.\n",
    "    2. ADFT - Augmented Dickey Fuller Test of Stationarity. If p < 0.05 then stationary, otherwise non-stationary."
   ]
  },
  {
   "cell_type": "code",
   "execution_count": 15,
   "metadata": {},
   "outputs": [
    {
     "ename": "ImportError",
     "evalue": "cannot import name 'datetools'",
     "output_type": "error",
     "traceback": [
      "\u001b[1;31m---------------------------------------------------------------------------\u001b[0m",
      "\u001b[1;31mModuleNotFoundError\u001b[0m                       Traceback (most recent call last)",
      "\u001b[1;32m~\\Anaconda3\\lib\\site-packages\\statsmodels\\compat\\pandas.py\u001b[0m in \u001b[0;36m<module>\u001b[1;34m()\u001b[0m\n\u001b[0;32m     52\u001b[0m \u001b[1;32mtry\u001b[0m\u001b[1;33m:\u001b[0m\u001b[1;33m\u001b[0m\u001b[0m\n\u001b[1;32m---> 53\u001b[1;33m     \u001b[1;32mimport\u001b[0m \u001b[0mpandas\u001b[0m\u001b[1;33m.\u001b[0m\u001b[0mtseries\u001b[0m\u001b[1;33m.\u001b[0m\u001b[0mtools\u001b[0m \u001b[1;32mas\u001b[0m \u001b[0mdatetools\u001b[0m\u001b[1;33m\u001b[0m\u001b[0m\n\u001b[0m\u001b[0;32m     54\u001b[0m     \u001b[1;32mimport\u001b[0m \u001b[0mpandas\u001b[0m\u001b[1;33m.\u001b[0m\u001b[0mtseries\u001b[0m\u001b[1;33m.\u001b[0m\u001b[0mfrequencies\u001b[0m \u001b[1;32mas\u001b[0m \u001b[0mfrequencies\u001b[0m\u001b[1;33m\u001b[0m\u001b[0m\n",
      "\u001b[1;31mModuleNotFoundError\u001b[0m: No module named 'pandas.tseries.tools'",
      "\nDuring handling of the above exception, another exception occurred:\n",
      "\u001b[1;31mImportError\u001b[0m                               Traceback (most recent call last)",
      "\u001b[1;32m<ipython-input-15-777ef378c2af>\u001b[0m in \u001b[0;36m<module>\u001b[1;34m()\u001b[0m\n\u001b[0;32m      1\u001b[0m \u001b[1;31m# Function that returns stationarity of data using Rolling Statistics & ADTF\u001b[0m\u001b[1;33m\u001b[0m\u001b[1;33m\u001b[0m\u001b[0m\n\u001b[1;32m----> 2\u001b[1;33m \u001b[1;32mfrom\u001b[0m \u001b[0mstatsmodels\u001b[0m\u001b[1;33m.\u001b[0m\u001b[0mtsa\u001b[0m\u001b[1;33m.\u001b[0m\u001b[0mstattools\u001b[0m \u001b[1;32mimport\u001b[0m \u001b[0madfuller\u001b[0m\u001b[1;33m\u001b[0m\u001b[0m\n\u001b[0m\u001b[0;32m      3\u001b[0m \u001b[1;32mdef\u001b[0m \u001b[0mtest_stationarity\u001b[0m\u001b[1;33m(\u001b[0m\u001b[0mdf\u001b[0m\u001b[1;33m,\u001b[0m \u001b[0mts\u001b[0m\u001b[1;33m)\u001b[0m\u001b[1;33m:\u001b[0m\u001b[1;33m\u001b[0m\u001b[0m\n\u001b[0;32m      4\u001b[0m     \"\"\"\n\u001b[0;32m      5\u001b[0m     \u001b[0mTest\u001b[0m \u001b[0mstationarity\u001b[0m \u001b[0musing\u001b[0m \u001b[0mmoving\u001b[0m \u001b[0maverage\u001b[0m \u001b[0mstatistics\u001b[0m \u001b[1;32mand\u001b[0m \u001b[0mDickey\u001b[0m\u001b[1;33m-\u001b[0m\u001b[0mFuller\u001b[0m \u001b[0mtest\u001b[0m\u001b[1;33m\u001b[0m\u001b[0m\n",
      "\u001b[1;32m~\\Anaconda3\\lib\\site-packages\\statsmodels\\tsa\\stattools.py\u001b[0m in \u001b[0;36m<module>\u001b[1;34m()\u001b[0m\n\u001b[0;32m     15\u001b[0m \u001b[1;32mfrom\u001b[0m \u001b[0mstatsmodels\u001b[0m\u001b[1;33m.\u001b[0m\u001b[0mtsa\u001b[0m\u001b[1;33m.\u001b[0m\u001b[0madfvalues\u001b[0m \u001b[1;32mimport\u001b[0m \u001b[0mmackinnonp\u001b[0m\u001b[1;33m,\u001b[0m \u001b[0mmackinnoncrit\u001b[0m\u001b[1;33m\u001b[0m\u001b[0m\n\u001b[0;32m     16\u001b[0m \u001b[1;32mfrom\u001b[0m \u001b[0mstatsmodels\u001b[0m\u001b[1;33m.\u001b[0m\u001b[0mtsa\u001b[0m\u001b[1;33m.\u001b[0m\u001b[0m_bds\u001b[0m \u001b[1;32mimport\u001b[0m \u001b[0mbds\u001b[0m\u001b[1;33m\u001b[0m\u001b[0m\n\u001b[1;32m---> 17\u001b[1;33m \u001b[1;32mfrom\u001b[0m \u001b[0mstatsmodels\u001b[0m\u001b[1;33m.\u001b[0m\u001b[0mtsa\u001b[0m\u001b[1;33m.\u001b[0m\u001b[0marima_model\u001b[0m \u001b[1;32mimport\u001b[0m \u001b[0mARMA\u001b[0m\u001b[1;33m\u001b[0m\u001b[0m\n\u001b[0m\u001b[0;32m     18\u001b[0m \u001b[1;32mfrom\u001b[0m \u001b[0mstatsmodels\u001b[0m\u001b[1;33m.\u001b[0m\u001b[0mtools\u001b[0m\u001b[1;33m.\u001b[0m\u001b[0msm_exceptions\u001b[0m \u001b[1;32mimport\u001b[0m \u001b[0mInterpolationWarning\u001b[0m\u001b[1;33m,\u001b[0m \u001b[0mMissingDataError\u001b[0m\u001b[1;33m\u001b[0m\u001b[0m\n\u001b[0;32m     19\u001b[0m \u001b[1;33m\u001b[0m\u001b[0m\n",
      "\u001b[1;32m~\\Anaconda3\\lib\\site-packages\\statsmodels\\tsa\\arima_model.py\u001b[0m in \u001b[0;36m<module>\u001b[1;34m()\u001b[0m\n\u001b[0;32m     20\u001b[0m from statsmodels.tools.decorators import (cache_readonly,\n\u001b[0;32m     21\u001b[0m                                           resettable_cache)\n\u001b[1;32m---> 22\u001b[1;33m \u001b[1;32mimport\u001b[0m \u001b[0mstatsmodels\u001b[0m\u001b[1;33m.\u001b[0m\u001b[0mtsa\u001b[0m\u001b[1;33m.\u001b[0m\u001b[0mbase\u001b[0m\u001b[1;33m.\u001b[0m\u001b[0mtsa_model\u001b[0m \u001b[1;32mas\u001b[0m \u001b[0mtsbase\u001b[0m\u001b[1;33m\u001b[0m\u001b[0m\n\u001b[0m\u001b[0;32m     23\u001b[0m \u001b[1;32mimport\u001b[0m \u001b[0mstatsmodels\u001b[0m\u001b[1;33m.\u001b[0m\u001b[0mbase\u001b[0m\u001b[1;33m.\u001b[0m\u001b[0mwrapper\u001b[0m \u001b[1;32mas\u001b[0m \u001b[0mwrap\u001b[0m\u001b[1;33m\u001b[0m\u001b[0m\n\u001b[0;32m     24\u001b[0m \u001b[1;32mfrom\u001b[0m \u001b[0mstatsmodels\u001b[0m\u001b[1;33m.\u001b[0m\u001b[0mregression\u001b[0m\u001b[1;33m.\u001b[0m\u001b[0mlinear_model\u001b[0m \u001b[1;32mimport\u001b[0m \u001b[0myule_walker\u001b[0m\u001b[1;33m,\u001b[0m \u001b[0mGLS\u001b[0m\u001b[1;33m\u001b[0m\u001b[0m\n",
      "\u001b[1;32m~\\Anaconda3\\lib\\site-packages\\statsmodels\\tsa\\base\\tsa_model.py\u001b[0m in \u001b[0;36m<module>\u001b[1;34m()\u001b[0m\n\u001b[0;32m      1\u001b[0m \u001b[1;32mfrom\u001b[0m \u001b[0mstatsmodels\u001b[0m\u001b[1;33m.\u001b[0m\u001b[0mcompat\u001b[0m\u001b[1;33m.\u001b[0m\u001b[0mpython\u001b[0m \u001b[1;32mimport\u001b[0m \u001b[0mlrange\u001b[0m\u001b[1;33m,\u001b[0m \u001b[0mlong\u001b[0m\u001b[1;33m\u001b[0m\u001b[0m\n\u001b[1;32m----> 2\u001b[1;33m \u001b[1;32mfrom\u001b[0m \u001b[0mstatsmodels\u001b[0m\u001b[1;33m.\u001b[0m\u001b[0mcompat\u001b[0m\u001b[1;33m.\u001b[0m\u001b[0mpandas\u001b[0m \u001b[1;32mimport\u001b[0m \u001b[0mis_numeric_dtype\u001b[0m\u001b[1;33m\u001b[0m\u001b[0m\n\u001b[0m\u001b[0;32m      3\u001b[0m \u001b[1;33m\u001b[0m\u001b[0m\n\u001b[0;32m      4\u001b[0m \u001b[1;32mimport\u001b[0m \u001b[0mdatetime\u001b[0m\u001b[1;33m\u001b[0m\u001b[0m\n\u001b[0;32m      5\u001b[0m \u001b[1;33m\u001b[0m\u001b[0m\n",
      "\u001b[1;32m~\\Anaconda3\\lib\\site-packages\\statsmodels\\compat\\pandas.py\u001b[0m in \u001b[0;36m<module>\u001b[1;34m()\u001b[0m\n\u001b[0;32m     54\u001b[0m     \u001b[1;32mimport\u001b[0m \u001b[0mpandas\u001b[0m\u001b[1;33m.\u001b[0m\u001b[0mtseries\u001b[0m\u001b[1;33m.\u001b[0m\u001b[0mfrequencies\u001b[0m \u001b[1;32mas\u001b[0m \u001b[0mfrequencies\u001b[0m\u001b[1;33m\u001b[0m\u001b[0m\n\u001b[0;32m     55\u001b[0m \u001b[1;32mexcept\u001b[0m \u001b[0mImportError\u001b[0m\u001b[1;33m:\u001b[0m\u001b[1;33m\u001b[0m\u001b[0m\n\u001b[1;32m---> 56\u001b[1;33m     \u001b[1;32mfrom\u001b[0m \u001b[0mpandas\u001b[0m\u001b[1;33m.\u001b[0m\u001b[0mcore\u001b[0m \u001b[1;32mimport\u001b[0m \u001b[0mdatetools\u001b[0m\u001b[1;33m\u001b[0m\u001b[0m\n\u001b[0m\u001b[0;32m     57\u001b[0m     \u001b[0mfrequencies\u001b[0m \u001b[1;33m=\u001b[0m \u001b[0mdatetools\u001b[0m\u001b[1;33m\u001b[0m\u001b[0m\n",
      "\u001b[1;31mImportError\u001b[0m: cannot import name 'datetools'"
     ]
    }
   ],
   "source": [
    "# Function that returns stationarity of data using Rolling Statistics & ADTF\n",
    "from statsmodels.tsa.stattools import adfuller\n",
    "def test_stationarity(df, ts):\n",
    "    \"\"\"\n",
    "    Test stationarity using moving average statistics and Dickey-Fuller test\n",
    "    Source: https://www.analyticsvidhya.com/blog/2016/02/time-series-forecasting-codes-python/\n",
    "    \"\"\"\n",
    "    \n",
    "    # Determing rolling statistics\n",
    "    rolmean = df[ts].rolling(window = 12, center = False).mean()\n",
    "    rolstd = df[ts].rolling(window = 12, center = False).std()\n",
    "    \n",
    "    # Plot rolling statistics:\n",
    "    orig = plt.plot(df[ts], \n",
    "                    color = 'blue', \n",
    "                    label = 'Original')\n",
    "    mean = plt.plot(rolmean, \n",
    "                    color = 'red', \n",
    "                    label = 'Rolling Mean')\n",
    "    std = plt.plot(rolstd, \n",
    "                   color = 'black', \n",
    "                   label = 'Rolling Std')\n",
    "    plt.legend(loc = 'best')\n",
    "    plt.title('Rolling Mean & Standard Deviation for %s' %(ts))\n",
    "    plt.xticks(rotation = 45)\n",
    "    plt.show(block = False)\n",
    "    plt.close()\n",
    "    \n",
    "    # Perform Dickey-Fuller test:\n",
    "    # Null Hypothesis (H_0): time series is not stationary\n",
    "    # Alternate Hypothesis (H_1): time series is stationary\n",
    "    print ('Results of Dickey-Fuller Test:')\n",
    "    \n",
    "    dftest = adfuller(df[ts], \n",
    "                      autolag='AIC')\n",
    "    dfoutput = pd.Series(dftest[0:4], \n",
    "                         index = ['Test Statistic',\n",
    "                                  'p-value',\n",
    "                                  '# Lags Used',\n",
    "                                  'Number of Observations Used'])\n",
    "    for key, value in dftest[4].items():\n",
    "        dfoutput['Critical Value (%s)'%key] = value\n",
    "    print (dfoutput)"
   ]
  },
  {
   "cell_type": "code",
   "execution_count": null,
   "metadata": {},
   "outputs": [],
   "source": [
    "#call test_stationarity function\n",
    "    \n",
    "test_stationarity(df = df_example, ts = 'ts')   "
   ]
  },
  {
   "cell_type": "raw",
   "metadata": {},
   "source": [
    "In the above result of Dickey-Fuller Test, you can see that the value of 'p'>= 0.05, hence failed to reject the null-hypothesis which means that the data is non-stationary."
   ]
  },
  {
   "cell_type": "raw",
   "metadata": {},
   "source": [
    "Now that we know that the data is non-stationary, we now have to take care of 2 reasons to get this fixed\n",
    "1. Trend – MEAN is not constant over time.\n",
    "2. Seasonality – VARIANCE is not constant over time."
   ]
  },
  {
   "cell_type": "raw",
   "metadata": {},
   "source": [
    "In order to eliminate the factor of Trend and Seasonality, we will be applying\n",
    "1. Log Transformation\n",
    "2. Weekly moving average smoothing\n",
    "3. First-order differencing"
   ]
  },
  {
   "cell_type": "code",
   "execution_count": null,
   "metadata": {},
   "outputs": [],
   "source": [
    "def plot_transformed_data(df, ts, ts_transform):\n",
    "  \"\"\"\n",
    "  Plot transformed and original time series data\n",
    "  \"\"\"\n",
    "  # Plot time series data\n",
    "  f, ax = plt.subplots(1,1)\n",
    "  ax.plot(df[ts])\n",
    "  ax.plot(df[ts_transform], color = 'red')\n",
    "\n",
    "  # Add title\n",
    "  ax.set_title('%s and %s time-series graph' %(ts, ts_transform))\n",
    "\n",
    "  # Rotate x-labels\n",
    "  ax.tick_params(axis = 'x', rotation = 45)\n",
    "\n",
    "  # Add legend\n",
    "  ax.legend([ts, ts_transform])\n",
    "  \n",
    "  plt.show()\n",
    "  plt.close()\n",
    "  \n",
    "  return"
   ]
  },
  {
   "cell_type": "code",
   "execution_count": null,
   "metadata": {},
   "outputs": [],
   "source": [
    "# Transformation - log ts\n",
    "df_example['ts_log'] = df_example['ts'].apply(lambda x: np.log(x))\n",
    "\n",
    "# Transformation - 7-day moving averages of log ts\n",
    "df_example['ts_log_moving_avg'] = df_example['ts_log'].rolling(window = 7,\n",
    "                                                               center = False).mean()\n",
    "\n",
    "# Transformation - 7-day moving average ts\n",
    "df_example['ts_moving_avg'] = df_example['ts'].rolling(window = 7,\n",
    "                                                       center = False).mean()\n",
    "\n",
    "# Transformation - Difference between logged ts and first-order difference logged ts\n",
    "# df_example['ts_log_diff'] = df_example['ts_log'] - df_example['ts_log'].shift()\n",
    "df_example['ts_log_diff'] = df_example['ts_log'].diff()\n",
    "\n",
    "# Transformation - Difference between ts and moving average ts\n",
    "df_example['ts_moving_avg_diff'] = df_example['ts'] - df_example['ts_moving_avg']\n",
    "\n",
    "# Transformation - Difference between logged ts and logged moving average ts\n",
    "df_example['ts_log_moving_avg_diff'] = df_example['ts_log'] - df_example['ts_log_moving_avg']\n",
    "\n",
    "# Transformation - Remove missing values, if any\n",
    "df_example_transform = df_example.dropna()\n",
    "\n",
    "# Transformation - Logged exponentially weighted moving averages (EWMA) ts\n",
    "df_example_transform['ts_log_ewma'] = df_example_transform['ts_log'].ewm(halflife = 7,\n",
    "                                                                         ignore_na = False,\n",
    "                                                                         min_periods = 0,\n",
    "                                                                         adjust = True).mean()\n",
    "\n",
    "# Transformation - Difference between logged ts and logged EWMA ts\n",
    "df_example_transform['ts_log_ewma_diff'] = df_example_transform['ts_log'] - df_example_transform['ts_log_ewma']\n",
    "\n",
    "# Display data\n",
    "display(df_example_transform.head())\n",
    "\n",
    "# Plot data\n",
    "plot_transformed_data(df = df_example, \n",
    "                      ts = 'ts', \n",
    "                      ts_transform = 'ts_log')\n",
    "# Plot data\n",
    "plot_transformed_data(df = df_example, \n",
    "                      ts = 'ts_log', \n",
    "                      ts_transform = 'ts_log_moving_avg')\n",
    "\n",
    "# Plot data\n",
    "plot_transformed_data(df = df_example_transform, \n",
    "                      ts = 'ts', \n",
    "                      ts_transform = 'ts_moving_avg')\n",
    "\n",
    "# Plot data\n",
    "plot_transformed_data(df = df_example_transform, \n",
    "                      ts = 'ts_log', \n",
    "                      ts_transform = 'ts_log_diff')\n",
    "\n",
    "# Plot data\n",
    "plot_transformed_data(df = df_example_transform, \n",
    "                      ts = 'ts', \n",
    "                      ts_transform = 'ts_moving_avg_diff')\n",
    "\n",
    "# Plot data\n",
    "plot_transformed_data(df = df_example_transform, \n",
    "                      ts = 'ts_log', \n",
    "                      ts_transform = 'ts_log_moving_avg_diff')\n",
    "\n",
    "# Plot data\n",
    "plot_transformed_data(df = df_example_transform, \n",
    "                      ts = 'ts_log', \n",
    "                      ts_transform = 'ts_log_ewma')\n",
    "\n",
    "# Plot data\n",
    "plot_transformed_data(df = df_example_transform, \n",
    "                      ts = 'ts_log', \n",
    "                      ts_transform = 'ts_log_ewma_diff')\n",
    "\n",
    "# Perform stationarity test\n",
    "test_stationarity(df = df_example_transform, \n",
    "                  ts = 'ts_log')\n",
    "\n",
    "# Perform stationarity test\n",
    "test_stationarity(df = df_example_transform, \n",
    "                  ts = 'ts_moving_avg')\n",
    "\n",
    "# Perform stationarity test\n",
    "test_stationarity(df = df_example_transform, \n",
    "                  ts = 'ts_log_moving_avg')\n",
    "\n",
    "# Perform stationarity test\n",
    "test_stationarity(df = df_example_transform,\n",
    "                  ts = 'ts_log_diff')\n",
    "\n",
    "# Perform stationarity test\n",
    "test_stationarity(df = df_example_transform,\n",
    "                  ts = 'ts_moving_avg_diff')\n",
    "\n",
    "# Perform stationarity test\n",
    "test_stationarity(df = df_example_transform,\n",
    "                  ts = 'ts_log_moving_avg_diff')\n",
    "\n",
    "# Perform stationarity test\n",
    "test_stationarity(df = df_example_transform, \n",
    "                  ts = 'ts_log_ewma')\n",
    "\n",
    "# Perform stationarity test\n",
    "test_stationarity(df = df_example_transform,\n",
    "                  ts = 'ts_log_ewma_diff')"
   ]
  },
  {
   "cell_type": "markdown",
   "metadata": {},
   "source": [
    "# Step 3: Find Optimal Parameters\n",
    "\n",
    "From our above research, we can conclude that ts_log_moving_avg and ts_log_ewma show the best value of 'p' therefor,\n",
    "either of these two parameters can be used on our ARIMA Models"
   ]
  },
  {
   "cell_type": "markdown",
   "metadata": {},
   "source": [
    "# Decomposition of trend, seasonality, residuals (non-mandatory)"
   ]
  },
  {
   "cell_type": "code",
   "execution_count": null,
   "metadata": {},
   "outputs": [],
   "source": [
    "def plot_decomposition(df, ts, trend, seasonal, residual):\n",
    "  \"\"\"\n",
    "  Plot time series data\n",
    "  \"\"\"\n",
    "  f, ((ax1, ax2), (ax3, ax4)) = plt.subplots(2,2, figsize = (15, 5), sharex = True)\n",
    "\n",
    "  ax1.plot(df[ts], label = 'Original')\n",
    "  ax1.legend(loc = 'best')\n",
    "  ax1.tick_params(axis = 'x', rotation = 45)\n",
    "\n",
    "  ax2.plot(df[trend], label = 'Trend')\n",
    "  ax2.legend(loc = 'best')\n",
    "  ax2.tick_params(axis = 'x', rotation = 45)\n",
    "\n",
    "  ax3.plot(df[seasonal],label = 'Seasonality')\n",
    "  ax3.legend(loc = 'best')\n",
    "  ax3.tick_params(axis = 'x', rotation = 45)\n",
    "\n",
    "  ax4.plot(df[residual], label = 'Residuals')\n",
    "  ax4.legend(loc = 'best')\n",
    "  ax4.tick_params(axis = 'x', rotation = 45)\n",
    "  plt.tight_layout()\n",
    "\n",
    "  # Show graph\n",
    "  plt.suptitle('Trend, Seasonal, and Residual Decomposition of %s' %(ts), \n",
    "               x = 0.5, \n",
    "               y = 1.05, \n",
    "               fontsize = 18)\n",
    "  plt.show()\n",
    "  plt.close()\n",
    "  \n",
    "  return"
   ]
  },
  {
   "cell_type": "code",
   "execution_count": null,
   "metadata": {},
   "outputs": [],
   "source": [
    "from statsmodels.tsa.seasonal import seasonal_decompose\n",
    "decomposition = seasonal_decompose(df_example_transform['ts_log'], freq = 365)\n",
    "\n",
    "df_example_transform.loc[:,'trend'] = decomposition.trend\n",
    "df_example_transform.loc[:,'seasonal'] = decomposition.seasonal\n",
    "df_example_transform.loc[:,'residual'] = decomposition.resid\n",
    "\n",
    "plot_decomposition(df = df_example_transform, \n",
    "                   ts = 'ts_log', \n",
    "                   trend = 'trend',\n",
    "                   seasonal = 'seasonal', \n",
    "                   residual = 'residual')\n",
    "\n",
    "test_stationarity(df = df_example_transform.dropna(), ts = 'residual')"
   ]
  },
  {
   "cell_type": "markdown",
   "metadata": {},
   "source": [
    "# Step 4: Build ARIMA Model\n",
    "\n",
    "ARIMA = Auto-Regressive Integrated Moving Average.\n",
    "Assumptions. The time-series is stationary.\n",
    "Depends on:\n",
    "1. Number of AR (Auto-Regressive) terms (p).\n",
    "2. Number of I (Integrated or Difference) terms (d).\n",
    "3. Number of MA (Moving Average) terms (q)."
   ]
  },
  {
   "cell_type": "raw",
   "metadata": {},
   "source": [
    "How do we determine p, d, and q? For p and q, we can use ACF and PACF plots "
   ]
  },
  {
   "cell_type": "code",
   "execution_count": null,
   "metadata": {},
   "outputs": [],
   "source": [
    "def plot_acf_pacf(df, ts):\n",
    "  \"\"\"\n",
    "  Plot auto-correlation function (ACF) and partial auto-correlation (PACF) plots\n",
    "  \"\"\"\n",
    "  f, (ax1, ax2) = plt.subplots(1,2, figsize = (10, 5)) \n",
    "\n",
    "  #Plot ACF: \n",
    "\n",
    "  ax1.plot(lag_acf)\n",
    "  ax1.axhline(y=0,linestyle='--',color='gray')\n",
    "  ax1.axhline(y=-1.96/np.sqrt(len(df[ts])),linestyle='--',color='gray')\n",
    "  ax1.axhline(y=1.96/np.sqrt(len(df[ts])),linestyle='--',color='gray')\n",
    "  ax1.set_title('Autocorrelation Function for %s' %(ts))\n",
    "\n",
    "  #Plot PACF:\n",
    "  ax2.plot(lag_pacf)\n",
    "  ax2.axhline(y=0,linestyle='--',color='gray')\n",
    "  ax2.axhline(y=-1.96/np.sqrt(len(df[ts])),linestyle='--',color='gray')\n",
    "  ax2.axhline(y=1.96/np.sqrt(len(df[ts])),linestyle='--',color='gray')\n",
    "  ax2.set_title('Partial Autocorrelation Function for %s' %(ts))\n",
    "  \n",
    "  plt.tight_layout()\n",
    "  plt.show()\n",
    "  plt.close()\n",
    "  \n",
    "  return"
   ]
  },
  {
   "cell_type": "code",
   "execution_count": null,
   "metadata": {},
   "outputs": [],
   "source": [
    "#ACF and PACF plots:\n",
    "from statsmodels.tsa.stattools import acf, pacf\n",
    "\n",
    "# determine ACF and PACF\n",
    "lag_acf = acf(np.array(df_example_transform['ts_log_moving_avg']), nlags = 20)\n",
    "lag_pacf = pacf(np.array(df_example_transform['ts_log_moving_avg']), nlags = 20)\n",
    "\n",
    "# plot ACF and PACF\n",
    "plot_acf_pacf(df = df_example_transform, ts = 'ts_log_moving_avg')"
   ]
  },
  {
   "cell_type": "code",
   "execution_count": null,
   "metadata": {},
   "outputs": [],
   "source": [
    "def run_arima_model(df, ts, p, d, q):\n",
    "  \"\"\"\n",
    "  Run ARIMA model\n",
    "  \"\"\"\n",
    "  from statsmodels.tsa.arima_model import ARIMA\n",
    "\n",
    "  # fit ARIMA model on time series\n",
    "  model = ARIMA(df[ts], order=(p, d, q))  \n",
    "  results_ = model.fit(disp=-1)  \n",
    "  \n",
    "  # get lengths correct to calculate RSS\n",
    "  len_results = len(results_.fittedvalues)\n",
    "  ts_modified = df[ts][-len_results:]\n",
    "  \n",
    "  # calculate root mean square error (RMSE) and residual sum of squares (RSS)\n",
    "  rss = sum((results_.fittedvalues - ts_modified)**2)\n",
    "  rmse = np.sqrt(rss / len(df[ts]))\n",
    "  \n",
    "  # plot fit\n",
    "  plt.plot(df[ts])\n",
    "  plt.plot(results_.fittedvalues, color = 'red')\n",
    "  plt.title('For ARIMA model (%i, %i, %i) for ts %s, RSS: %.4f, RMSE: %.4f' %(p, d, q, ts, rss, rmse))\n",
    "  \n",
    "  plt.show()\n",
    "  plt.close()\n",
    "  \n",
    "  return results_"
   ]
  },
  {
   "cell_type": "markdown",
   "metadata": {},
   "source": [
    "# Step 5: Make Predictions"
   ]
  },
  {
   "cell_type": "code",
   "execution_count": null,
   "metadata": {},
   "outputs": [],
   "source": [
    "# Note: I do the differencing in the transformation of the data 'ts_log_diff'\n",
    "# AR model with 1st order differencing - ARIMA (1,0,0)\n",
    "model_AR = run_arima_model(df = df_example_transform, \n",
    "                           ts = 'ts_log_moving_avg', \n",
    "                           p = 1, \n",
    "                           d = 0, \n",
    "                           q = 0)\n",
    "\n",
    "# MA model with 1st order differencing - ARIMA (0,0,1)\n",
    "model_MA = run_arima_model(df = df_example_transform, \n",
    "                           ts = 'ts_log_moving_avg', \n",
    "                           p = 0, \n",
    "                           d = 0, \n",
    "                           q = 1)\n",
    "\n",
    "# ARMA model with 1st order differencing - ARIMA (1,0,1)\n",
    "model_MA = run_arima_model(df = df_example_transform, \n",
    "                           ts = 'ts_log_moving_avg', \n",
    "                           p = 1, \n",
    "                           d = 0, \n",
    "                           q = 1)"
   ]
  }
 ],
 "metadata": {
  "kernelspec": {
   "display_name": "Python 3",
   "language": "python",
   "name": "python3"
  },
  "language_info": {
   "codemirror_mode": {
    "name": "ipython",
    "version": 3
   },
   "file_extension": ".py",
   "mimetype": "text/x-python",
   "name": "python",
   "nbconvert_exporter": "python",
   "pygments_lexer": "ipython3",
   "version": "3.6.4"
  }
 },
 "nbformat": 4,
 "nbformat_minor": 2
}
